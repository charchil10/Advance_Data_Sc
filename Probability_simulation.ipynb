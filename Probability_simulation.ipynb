{
 "cells": [
  {
   "cell_type": "markdown",
   "metadata": {},
   "source": [
    "---\n",
    "<h1> <center>Probability Data Sc </center></h1>\n",
    "\n",
    "---"
   ]
  },
  {
   "cell_type": "markdown",
   "metadata": {},
   "source": [
    "### Coding Challenge #1\n",
    "\n",
    "Consider a place where we have ’N’ people. Now, what should be the value of ’N’ so that at least two persons having same birthday has a probability greater than 0.5\n",
    " \n",
    "\n",
    "You can assume that\n",
    "1.  The year is 365 or 366 days long (please state)\n",
    "2.  Person has an equal chance of being born on any day of the year"
   ]
  },
  {
   "cell_type": "code",
   "execution_count": 13,
   "metadata": {},
   "outputs": [],
   "source": [
    "import numpy as np"
   ]
  },
  {
   "cell_type": "markdown",
   "metadata": {},
   "source": [
    "P(two people share birthday) = 1 - P(**no** two people share birthday)\n",
    "\n",
    "The first person can have any birthday. The second person's birthday has to be different. There are 364 different days to choose from, so the chance that two people have different birthdays is 364/365\n",
    "\n",
    "Similarly n people sharing the birthday \n",
    "\n",
    "p(n) =  1 - (365/365) x (364/365) x (363/365) x .... x (365-(n-1))/365)"
   ]
  },
  {
   "cell_type": "code",
   "execution_count": 65,
   "metadata": {},
   "outputs": [],
   "source": [
    "def manual_cal(probability= 0.5):\n",
    "    '''Function returns minimum number of people in group to have probability of same birthday \n",
    "    greater than the supplied probability '''\n",
    "    \n",
    "    if probability ==1:\n",
    "        raise TypeError('probability cannot be 1 in this case, can cause an infite loop')\n",
    "    \n",
    "    groupsize = 0\n",
    "    p_diff_bday = 1\n",
    "    while p_diff_bday >= 1-probability:\n",
    "        groupsize =groupsize + 1\n",
    "        p_diff_bday = p_diff_bday*(365-(groupsize-1))/365\n",
    "\n",
    "    return groupsize"
   ]
  },
  {
   "cell_type": "code",
   "execution_count": 66,
   "metadata": {},
   "outputs": [
    {
     "data": {
      "text/plain": [
       "23"
      ]
     },
     "execution_count": 66,
     "metadata": {},
     "output_type": "execute_result"
    }
   ],
   "source": [
    "manual_cal()"
   ]
  },
  {
   "cell_type": "code",
   "execution_count": 69,
   "metadata": {},
   "outputs": [
    {
     "data": {
      "text/plain": [
       "'the probability of groupsize 23 out of which 2 having same birthday is 0.50828'"
      ]
     },
     "execution_count": 69,
     "metadata": {},
     "output_type": "execute_result"
    }
   ],
   "source": [
    "##Simulation\n",
    "\n",
    "def same_birthdays(people=2, groupsize= manual_cal(), rep=100000):\n",
    "    \n",
    "    g= np.arange(groupsize)\n",
    "    pep = people - 1\n",
    "    eq = []\n",
    "    for j in np.arange(rep):\n",
    "        eq.append((groupsize - len(set(np.random.randint(1,365) for i in g)))>= pep)\n",
    "    \n",
    "    return ('the probability of groupsize '+str(groupsize)+' out of which ' + str(people) + ' having same birthday is '+str(sum(eq)/rep))\n",
    "\n",
    "same_birthdays()"
   ]
  },
  {
   "cell_type": "markdown",
   "metadata": {},
   "source": [
    "---\n",
    "### Coding Challenge #2\n",
    "\n",
    "![Imagecoins](https://www.wikihow.com/Consult-the-I-Ching-Using-3-Coins#/Image:Consult-the-I-Ching-Using-3-Coins-Step-1-Version-2.jpg)\n",
    "\n",
    "What is the probability of getting exactly 2 heads after flipping three coins?"
   ]
  },
  {
   "cell_type": "code",
   "execution_count": 391,
   "metadata": {},
   "outputs": [],
   "source": [
    "def prob_2_heads(coins = 3, match =2, rep = 10000):\n",
    "    eq = []\n",
    "    for j in np.arange(rep):\n",
    "        eq.append((sum([np.random.randint(2) for i in np.arange(coins)]) == match))\n",
    "    return sum(eq)/rep\n",
    "    "
   ]
  },
  {
   "cell_type": "code",
   "execution_count": 392,
   "metadata": {},
   "outputs": [
    {
     "data": {
      "text/plain": [
       "0.3756"
      ]
     },
     "execution_count": 392,
     "metadata": {},
     "output_type": "execute_result"
    }
   ],
   "source": [
    "prob_2_heads()"
   ]
  },
  {
   "cell_type": "markdown",
   "metadata": {},
   "source": [
    "---\n",
    "### Coding Challenge #3\n",
    "\n",
    "Consider a six-sided die that gets a 1 with probability p = 1/6. \n",
    "What is the probability that you can get a 1 after rolling the die 3 times?  What is the probability of getting exactly one success (a roll of 1) in three tries?"
   ]
  },
  {
   "cell_type": "code",
   "execution_count": 510,
   "metadata": {},
   "outputs": [],
   "source": [
    "def prob_die( tries =3, success = 1, case = 1, rep = 100000):\n",
    "    ''' '''\n",
    "    suc = []\n",
    "    for j in np.arange(rep):\n",
    "        sim = np.asarray([np.random.randint(1,7) for i in np.arange(tries)])\n",
    "        unique , count = np.unique(sim, return_counts= True)\n",
    "        count_dict = dict(zip(unique, count))\n",
    "        if case in count_dict and count_dict[case]== success:\n",
    "            suc.append(1)\n",
    "    return sum(suc)/rep"
   ]
  },
  {
   "cell_type": "code",
   "execution_count": 511,
   "metadata": {},
   "outputs": [
    {
     "data": {
      "text/plain": [
       "0.27345"
      ]
     },
     "execution_count": 511,
     "metadata": {},
     "output_type": "execute_result"
    }
   ],
   "source": [
    "prob_die()"
   ]
  },
  {
   "cell_type": "markdown",
   "metadata": {},
   "source": [
    "---\n",
    "### Coding Challenge #4\n",
    "\n",
    "Suppose the MTV Video Music Awards allows users to vote for the following for “video of the year.” \n",
    "\n",
    "    a.\tMiley Cyrus - \"Wrecking Ball\" (https://www.youtube.com/watch?v=My2FRPA3Gf8 )\n",
    "    b.\tIggy Azalea- \"Fancy\" (https://www.youtube.com/watch?v=O-zpOMYRi0w )\n",
    "    c.\tBrad Paisley - \"The Ballad Of Honey Boo Boo\" (https://www.youtube.com/watch?v=11Uq3iGESYM )\n",
    "\n",
    "Of those making deliberate votes 50% would vote for Brad Paisley - \"The Ballad of Honey Boo Boo,\" 30% for Miley Cyrus - \"Wrecking Ball\" and 20% for Iggy Azalea- \"Fancy.\"  However, 25% of voters are lazy and just click one of the three options with equal probability.\n",
    "\n",
    "\n",
    "    1.\tLet M be a random variable that represents the expected votes for Miley Cyrus - \"Wrecking Ball\"\n",
    "    2.\tLet I be a random variable that represents the expected votes for Iggy Azalea- \"Fancy\"\n",
    "    3.\tLet B be a random variable that represents the expected votes for Brad Paisley - \"The Ballad Of Honey Boo Boo\"\n"
   ]
  },
  {
   "cell_type": "code",
   "execution_count": 681,
   "metadata": {},
   "outputs": [
    {
     "data": {
      "text/plain": [
       "{'M': 3103, 'I': 2323, 'B': 4574}"
      ]
     },
     "execution_count": 681,
     "metadata": {},
     "output_type": "execute_result"
    }
   ],
   "source": [
    "import math\n",
    "import itertools\n",
    "\n",
    "def votes(total_population = 10000, groups_in_str= ['M','I','B'], ratios= [.3,.2,.5], lazy_voters = .25):\n",
    "    ''' total_population: total number of people to vote\n",
    "        groups_in_str: Initials of singers to vote for\n",
    "        ratios: ratios of respective voters for singers\n",
    "        lazy_voters: Voters known as to vote for random (in ratios)'''\n",
    "    \n",
    "    groups = len(groups_in_str)\n",
    "    sim = []\n",
    "    \n",
    "    # Distribute known voters\n",
    "    Auth_vote = math.ceil(total_population*(1-lazy_voters))\n",
    "    ratios = [round(i) for i in np.asarray(ratios)*Auth_vote]\n",
    "    for i in np.arange(groups):\n",
    "        sim.append([i]*int(ratios[i]))\n",
    "    \n",
    "    # Random lazy voters\n",
    "    for j in np.arange(total_population - Auth_vote):\n",
    "        rand_vote = np.random.randint(groups)\n",
    "        sim.append([rand_vote])\n",
    "    \n",
    "    #Expanding list into a final list\n",
    "    sim = [item for sublist in sim for item in sublist]\n",
    "    \n",
    "    unique, count = np.unique(sim, return_counts= True)\n",
    "    count_dict = dict(zip(groups_in_str, count))\n",
    "    \n",
    "    return count_dict\n",
    "\n",
    "votes()"
   ]
  },
  {
   "cell_type": "markdown",
   "metadata": {},
   "source": [
    "---\n",
    "### Coding Challenge #5\n",
    "\n",
    "Suppose you're on a game show, and you're given the choice of n doors: Behind one door is a million dollars; behind all the others, donuts. You pick a door, say No. 1, and the host, who knows what's behind the doors, opens another door, say No. 3, which has a donut. He then says to you, \"Do you want to another door?\" \n",
    "\n",
    "    1. Is it to your advantage to switch your choice?\n",
    "\n",
    "Assume k of the n doors are revealed:\n",
    "\n",
    "    2. What is the probability of getting the million dollar door if you stay?\n",
    "\n",
    "\n",
    "    3. What is the probability of getting the million dollar door if you switch to another non- revealed door?\n"
   ]
  },
  {
   "cell_type": "code",
   "execution_count": 882,
   "metadata": {},
   "outputs": [
    {
     "data": {
      "text/plain": [
       "0.3397"
      ]
     },
     "execution_count": 882,
     "metadata": {},
     "output_type": "execute_result"
    }
   ],
   "source": [
    "def door(total_doors = 3, price_door = 3, switch = True, rep = 10000):\n",
    "    doors = np.arange(1, total_doors+1)\n",
    "    sim = []\n",
    "    for j in np.arange(rep):\n",
    "        if switch == False:\n",
    "            switch_choose = np.random.choice(doors) \n",
    "            if switch_choose == price_door:\n",
    "                sim.append(1)\n",
    "            elif switch_choose != price_door:\n",
    "                sim.append(0)\n",
    "            \n",
    "   \n",
    "        elif switch == True:\n",
    "            switch_choose = np.random.choice(doors)\n",
    "            #print(switch_choose)\n",
    "            if switch_choose == price_door:\n",
    "                sim.append(0)\n",
    "            elif switch_choose != price_door:\n",
    "                new_choose = np.random.choice(np.delete(doors, switch_choose-1))\n",
    "                if new_choose == price_door:\n",
    "                    sim.append(1)\n",
    "                    #print('i am here')\n",
    "                elif new_choose != price_door:\n",
    "                    sim.append(0)      \n",
    "    return sum(sim)/rep\n",
    "\n",
    "\n",
    "door()\n"
   ]
  }
 ],
 "metadata": {
  "kernelspec": {
   "display_name": "Python 3",
   "language": "python",
   "name": "python3"
  },
  "language_info": {
   "codemirror_mode": {
    "name": "ipython",
    "version": 3
   },
   "file_extension": ".py",
   "mimetype": "text/x-python",
   "name": "python",
   "nbconvert_exporter": "python",
   "pygments_lexer": "ipython3",
   "version": "3.6.6"
  }
 },
 "nbformat": 4,
 "nbformat_minor": 2
}
